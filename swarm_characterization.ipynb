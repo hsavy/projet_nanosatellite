{
 "cells": [
  {
   "cell_type": "code",
   "execution_count": null,
   "metadata": {
    "vscode": {
     "languageId": "plaintext"
    }
   },
   "outputs": [],
   "source": [
    "import numpy as np\n",
    "import pandas as pd\n",
    "from tqdm import tqdm\n",
    "\n",
    "import matplotlib.pyplot as plt\n",
    "from mpl_toolkits import mplot3d\n",
    "\n",
    "from swarm_sim import *\n",
    "\n",
    "%matplotlib inline "
   ]
  },
  {
   "cell_type": "markdown",
   "metadata": {},
   "source": [
    "Load the data and format it as Swarm object"
   ]
  },
  {
   "cell_type": "code",
   "execution_count": null,
   "metadata": {
    "vscode": {
     "languageId": "plaintext"
    }
   },
   "outputs": [],
   "source": [
    "PATH = '..\\data\\Traces_Nanosatellites\\\\track_'\n",
    "satellites = {}\n",
    "\n",
    "with tqdm(total=100, desc='Extracting data') as pbar:\n",
    "    for i in range(0,100):\n",
    "        df = pd.read_csv(PATH+str(i)+'.csv', sep=',', header=0)\n",
    "        df['coords'] = ['x','y','z']\n",
    "        satellites[i] = df.set_index('coords', drop=True)\n",
    "        pbar.update(1)\n",
    "    \n",
    "DURATION = satellites[0].columns.tolist()\n",
    "CHUNKS = 2000     # Number of timestamps to analyse\n",
    "NB_NODES = 100\n",
    "\n",
    "satellites[0].head()"
   ]
  },
  {
   "cell_type": "code",
   "execution_count": null,
   "metadata": {
    "vscode": {
     "languageId": "plaintext"
    }
   },
   "outputs": [],
   "source": [
    "CONNECTION_RANGE = 30000\n",
    "swarm_data = {}\n",
    "\n",
    "with tqdm(total = len(DURATION), desc = 'Converting to Swarm') as pbar:\n",
    "    for t in DURATION:\n",
    "        swarm_data[int(t)] = Swarm(\n",
    "            connection_range=CONNECTION_RANGE, \n",
    "            nodes=[Node(id, node[t].x, node[t].y, node[t].z) for id,node in satellites.items()]\n",
    "            )\n",
    "        pbar.update(1)\n",
    "\n",
    "print(swarm_data[0])"
   ]
  },
  {
   "cell_type": "code",
   "execution_count": null,
   "metadata": {
    "vscode": {
     "languageId": "plaintext"
    }
   },
   "outputs": [],
   "source": [
    "swarm_chunk = {}\n",
    "for t in range(CHUNKS):\n",
    "    swarm_chunk[t] = swarm_data[t]"
   ]
  },
  {
   "cell_type": "markdown",
   "metadata": {},
   "source": [
    "Compute node degree distribution & evolution over the whole duration (optional)"
   ]
  },
  {
   "cell_type": "code",
   "execution_count": null,
   "metadata": {
    "vscode": {
     "languageId": "plaintext"
    }
   },
   "outputs": [],
   "source": [
    "\n",
    "fig,ax = plt.subplots(figsize=(6,4))\n",
    "\n",
    "bp = ax.boxplot(degree_range.values(), \n",
    "            vert=False, \n",
    "            widths=0.5,\n",
    "            meanline=True, \n",
    "            showmeans=True, \n",
    "            meanprops={'color':'red','ls':'--'}\n",
    "            )\n",
    "ax.legend([bp['medians'][0], bp['means'][0]], ['Median', 'Average'])\n",
    "ax.set_yticklabels([20,40,60]) #degree_range.keys()\n",
    "ax.set_ylabel('Connection range (km)')\n",
    "ax.set_xlabel('Node degree')\n",
    "\n",
    "#fig.suptitle('Node degree distribution')"
   ]
  },
  {
   "cell_type": "code",
   "execution_count": null,
   "metadata": {
    "vscode": {
     "languageId": "plaintext"
    }
   },
   "outputs": [],
   "source": [
    "with tqdm(total=len(DURATION), desc='Neighbor Discovery') as pbar:\n",
    "    for t,swarm in swarm_data.items():\n",
    "        neighbor_matrix = swarm.neighbor_matrix()\n",
    "        pbar.update(1)"
   ]
  },
  {
   "cell_type": "code",
   "execution_count": null,
   "metadata": {
    "vscode": {
     "languageId": "plaintext"
    }
   },
   "outputs": [],
   "source": [
    "degree_distrib = {}\n",
    "\n",
    "with tqdm(total=len(DURATION), desc='Degree distribution') as pbar:\n",
    "    for t,swarm in swarm_data.items():\n",
    "        degree_distrib[t] = swarm.degree()\n",
    "        pbar.update(1)"
   ]
  },
  {
   "cell_type": "code",
   "execution_count": null,
   "metadata": {
    "vscode": {
     "languageId": "plaintext"
    }
   },
   "outputs": [],
   "source": [
    "dmin = [np.min(d) for d in degree_distrib.values()]\n",
    "dq1 = [np.quantile(d, 0.25) for d in degree_distrib.values()]\n",
    "dmed = [np.median(d) for d in degree_distrib.values()]\n",
    "dq3 = [np.quantile(d, 0.75) for d in degree_distrib.values()]\n",
    "dmax = [np.max(d) for d in degree_distrib.values()]"
   ]
  },
  {
   "cell_type": "code",
   "execution_count": null,
   "metadata": {
    "vscode": {
     "languageId": "plaintext"
    }
   },
   "outputs": [],
   "source": [
    "idx = np.arange(0,100000,10)\n",
    "\n",
    "plt.figure(figsize=(6,6))\n",
    "plt.plot(idx, dmin, label='min', c='blue', lw=1, ls=':')\n",
    "plt.plot(idx, dq1, label='Q1', c='blue', lw=1)\n",
    "plt.plot(idx, dmed, label='median', c='green', lw=2)\n",
    "plt.plot(idx, dq3, label='Q3', c='red', lw=1)\n",
    "plt.plot(idx, dmax, label='max', c='red', lw=1, ls=':')\n",
    "plt.legend(loc='upper right')\n",
    "plt.xlabel('Time (s)')\n",
    "plt.ylabel('Degree')"
   ]
  },
  {
   "cell_type": "markdown",
   "metadata": {},
   "source": [
    "Neighbor discovery on smaller chunk of data"
   ]
  },
  {
   "cell_type": "code",
   "execution_count": null,
   "metadata": {
    "vscode": {
     "languageId": "plaintext"
    }
   },
   "outputs": [],
   "source": [
    "def compute_neighbor_matrix(swarm_chunk, connection_range=None):\n",
    "    neighbor_matrix = {}\n",
    "    with tqdm(total=CHUNKS, desc='Computing Neighbor matrix') as pbar:\n",
    "        for t,swarm in swarm_chunk.items():\n",
    "            neighbor_matrix[t] = swarm.neighbor_matrix(connection_range)\n",
    "            pbar.update(1)\n",
    "    return neighbor_matrix\n",
    "\n",
    "def compute_swarm_degree(swarm_chunk):\n",
    "    swarm_degree = {}\n",
    "    with tqdm(total=CHUNKS, desc='Computing Swarm degree') as pbar:    \n",
    "        for t,swarm in swarm_chunk.items():\n",
    "            swarm_degree[t] = swarm.degree()\n",
    "            pbar.update(1)\n",
    "    return swarm_degree\n",
    "\n",
    "def init_network(swarm_chunk, cr=None):\n",
    "    if not cr:\n",
    "        cr = swarm_chunk[0].connection_range\n",
    "    print('\\nConnection range:', cr)\n",
    "    neighbor_matrix = compute_neighbor_matrix(swarm_chunk, connection_range=cr)\n",
    "    swarm_degree = compute_swarm_degree(swarm_chunk)\n",
    "    sum_data = [e for t in swarm_degree.keys() for e in swarm_degree[t]]\n",
    "    print('Minimum number of neighbors:', np.min(sum_data))\n",
    "    print('Maximum number of neighbors:', np.max(sum_data))\n",
    "    print('Average number of neighbors:', np.mean(sum_data))\n",
    "    node_ict = []\n",
    "    for i in range(NB_NODES):\n",
    "        node_data = [swarm_degree[t][i] for t in swarm_degree.keys()]\n",
    "        node_ict.append(node_data.count(0) / float(CHUNKS)*100)\n",
    "    mean_ict = np.mean(node_ict)\n",
    "    print('Mean inter-contact time:', mean_ict)\n",
    "\n",
    "def compute_swarm_kvicinity(swarm_chunk, depth=1):\n",
    "    swarm_kv = {}\n",
    "    with tqdm(total=CHUNKS, desc=f'Computing Swarm k-vicinity (depth {depth})') as pbar:    \n",
    "        for t,swarm in swarm_chunk.items():\n",
    "            swarm_kv[t] = swarm.k_vicinity(depth)\n",
    "            pbar.update(1)\n",
    "    return swarm_kv\n",
    "\n",
    "def avg_kvicinity(swarm_chunk, depth=1):\n",
    "    swarm_kv = compute_swarm_kvicinity(swarm_chunk, depth)\n",
    "    avg_kv = {}\n",
    "    for i in range(NB_NODES):\n",
    "        avg_kv[i] = np.mean([swarm_kv[t][i] for t in swarm_kv.keys()])\n",
    "    return avg_kv"
   ]
  },
  {
   "cell_type": "code",
   "execution_count": null,
   "metadata": {
    "vscode": {
     "languageId": "plaintext"
    }
   },
   "outputs": [],
   "source": [
    "init_network(swarm_chunk, cr=40000)"
   ]
  },
  {
   "cell_type": "code",
   "execution_count": null,
   "metadata": {
    "vscode": {
     "languageId": "plaintext"
    }
   },
   "outputs": [],
   "source": [
    "k_vicinities= {}\n",
    "for i in range(1,4):\n",
    "    k_vicinities[i] = avg_kvicinity(swarm_chunk, depth=i)"
   ]
  },
  {
   "cell_type": "code",
   "execution_count": null,
   "metadata": {
    "vscode": {
     "languageId": "plaintext"
    }
   },
   "outputs": [],
   "source": [
    "plt.figure(figsize=(6,6))\n",
    "idx = list(k_vicinities[1].values()) # Degree\n",
    "colors = {1:'blue',2:'green',3:'red'}\n",
    "for k,v in k_vicinities.items():\n",
    "    plt.scatter(idx, list(v.values()), c=colors[k], lw=1, label='k='+str(k))\n",
    "plt.legend(loc='upper left')\n",
    "plt.xlabel('Node degree')\n",
    "plt.ylabel('K-vicinity')\n",
    "#plt.title('Evolution of k-vicinity in function of node degree')"
   ]
  },
  {
   "cell_type": "code",
   "execution_count": null,
   "metadata": {
    "vscode": {
     "languageId": "plaintext"
    }
   },
   "outputs": [],
   "source": [
    "# Thorough analysis, optional\n",
    "\n",
    "ranges = [60000,50000,40000,30000,20000,15000,10000]\n",
    "swarm_ict = {}\n",
    "swarm_neigh = {}\n",
    "for cr in ranges:\n",
    "    print('\\nConnection range:', cr)\n",
    "    neighbor_matrix = compute_neighbor_matrix(swarm_chunk, connection_range=cr)\n",
    "    swarm_degree = compute_swarm_degree(swarm_chunk)\n",
    "    sum_data = [e for t in swarm_degree.keys() for e in swarm_degree[t]]\n",
    "    print('Minimum number of neighbors:', np.min(sum_data))\n",
    "    print('Maximum number of neighbors:', np.max(sum_data))\n",
    "    print('Average number of neighbors:', np.mean(sum_data))\n",
    "    swarm_neigh[cr] = (np.min(sum_data), np.max(sum_data), np.mean(sum_data))\n",
    "    node_ict = []\n",
    "    for i in range(NB_NODES):\n",
    "        node_data = [swarm_degree[t][i] for t in swarm_degree.keys()]\n",
    "        node_ict.append(node_data.count(0) / float(CHUNKS)*100)\n",
    "    mean_ict = np.mean(node_ict)\n",
    "    print('Mean inter-contact time:', mean_ict)\n",
    "    swarm_ict[cr] = mean_ict"
   ]
  },
  {
   "cell_type": "markdown",
   "metadata": {},
   "source": [
    "Network characterization\n",
    "1. Intercontact time and disponibility"
   ]
  },
  {
   "cell_type": "code",
   "execution_count": null,
   "metadata": {
    "vscode": {
     "languageId": "plaintext"
    }
   },
   "outputs": [],
   "source": [
    "def pairwise_dispo(neighbor_matrix):\n",
    "    dispos = {} # (n1,n2):avg_dispo (%)\n",
    "    for n1 in range(NB_NODES):\n",
    "        pairs = [set(pair) for pair in dispos.keys()]\n",
    "        for n2 in range(NB_NODES):\n",
    "            if n1 != n2 and set([n1,n2]) not in pairs:\n",
    "                pair_dispo = [neighbor_matrix[t][n1][n2] for t in neighbor_matrix.keys()]\n",
    "                dispos[(n1,n2)] = np.mean(pair_dispo)*100\n",
    "    return dispos    \n",
    "\n",
    "def pairwise_ict(neighbor_matrix):\n",
    "    ict = {} # (n1,n2):avg_ict (%)\n",
    "    for n1 in range(NB_NODES):\n",
    "        pairs = [set(pair) for pair in ict.keys()]\n",
    "        for n2 in range(NB_NODES):\n",
    "            if n1 != n2 and set([n1,n2]) not in pairs:\n",
    "                pair_ict = [neighbor_matrix[t][n1][n2] for t in neighbor_matrix.keys()]\n",
    "                ict[(n1,n2)] = (1-np.mean(pair_ict))*100\n",
    "    return ict    \n",
    "            "
   ]
  },
  {
   "cell_type": "code",
   "execution_count": null,
   "metadata": {
    "vscode": {
     "languageId": "plaintext"
    }
   },
   "outputs": [],
   "source": [
    "matrix = compute_neighbor_matrix(swarm_chunk, connection_range=CONNECTION_RANGE)\n"
   ]
  },
  {
   "cell_type": "code",
   "execution_count": null,
   "metadata": {
    "vscode": {
     "languageId": "plaintext"
    }
   },
   "outputs": [],
   "source": [
    "dispos = pairwise_dispo(matrix)\n",
    "pair_dispo = sorted(dispos.values(), reverse=True)\n",
    "cr = CONNECTION_RANGE/1000\n",
    "\n",
    "plt.figure(figsize=(8,8))\n",
    "plt.plot(pair_dispo)\n",
    "plt.xlabel('Pair ID')\n",
    "plt.ylabel('Disponibility (%)')\n",
    "plt.title(f'Average disponibility for each pair of nodes (range={cr} km)')"
   ]
  },
  {
   "cell_type": "code",
   "execution_count": null,
   "metadata": {
    "vscode": {
     "languageId": "plaintext"
    }
   },
   "outputs": [],
   "source": [
    "ict = pairwise_ict(matrix)\n"
   ]
  },
  {
   "cell_type": "code",
   "execution_count": null,
   "metadata": {
    "vscode": {
     "languageId": "plaintext"
    }
   },
   "outputs": [],
   "source": [
    "cr = CONNECTION_RANGE/1000\n",
    "count, bins_count = np.histogram(list(ict.values()), bins=50)\n",
    "pdf = count / sum(count)\n",
    "cdf = np.cumsum(pdf)\n",
    "\n",
    "fig, ax1 = plt.subplots(figsize=(6,5))\n",
    "\n",
    "ax1.hist(ict.values(), bins=50)\n",
    "ax1.set_ylabel('Number of pairs', color='blue')\n",
    "ax1.set_xlabel('ICT (%)')\n",
    "ax1.tick_params(axis='y', labelcolor='blue')\n",
    "\n",
    "ax2 = ax1.twinx()\n",
    "ax2.plot(bins_count[1:], cdf, color='red', lw=2)\n",
    "ax2.set_ylabel('CDF', color='red')\n",
    "ax2.tick_params(axis='y', labelcolor='red')\n",
    "\n",
    "#fig.suptitle(f'Average ICT distribution for each pair of nodes (range={cr} km)')\n",
    "fig.tight_layout()"
   ]
  },
  {
   "cell_type": "markdown",
   "metadata": {},
   "source": [
    "2. Peer-to-peer distances\n"
   ]
  },
  {
   "cell_type": "code",
   "execution_count": null,
   "metadata": {
    "vscode": {
     "languageId": "plaintext"
    }
   },
   "outputs": [],
   "source": [
    "def compute_distance_matrix(swarm_chunk):\n",
    "    distance_matrix = {}\n",
    "    with tqdm(total=CHUNKS, desc='Computing Distance matrix') as pbar:\n",
    "        for t,swarm in swarm_chunk.items():\n",
    "            distance_matrix[t] = swarm.distance_matrix()\n",
    "            pbar.update(1)\n",
    "    return distance_matrix"
   ]
  },
  {
   "cell_type": "code",
   "execution_count": null,
   "metadata": {
    "vscode": {
     "languageId": "plaintext"
    }
   },
   "outputs": [],
   "source": [
    "dm = compute_distance_matrix(swarm_chunk)"
   ]
  },
  {
   "cell_type": "code",
   "execution_count": null,
   "metadata": {
    "vscode": {
     "languageId": "plaintext"
    }
   },
   "outputs": [],
   "source": [
    "distance_data = [e for data in dm.values() for node in data for e in node]"
   ]
  },
  {
   "cell_type": "code",
   "execution_count": null,
   "metadata": {
    "vscode": {
     "languageId": "plaintext"
    }
   },
   "outputs": [],
   "source": [
    "plt.figure(figsize=(8,8))\n",
    "plt.hist(distance_data, bins=50)\n",
    "plt.xlabel('Distance (m)')\n",
    "plt.ylabel('Occurrences')\n",
    "plt.title(f'Peer-to-peer distance distribution')"
   ]
  },
  {
   "cell_type": "code",
   "execution_count": null,
   "metadata": {
    "vscode": {
     "languageId": "plaintext"
    }
   },
   "outputs": [],
   "source": [
    "fig,ax = plt.subplots(figsize=(8,4))\n",
    "\n",
    "bp = ax.boxplot(distance_data, \n",
    "            vert=False, \n",
    "            meanline=True, \n",
    "            showmeans=True, \n",
    "            meanprops={'color':'red','ls':'--'}\n",
    "            )\n",
    "ax.legend([bp['medians'][0], bp['means'][0]], ['Median', 'Average'])\n",
    "ax.set_xlabel('Distance (m)')\n",
    "\n",
    "fig.suptitle('Peer-to-peer distance distribution')"
   ]
  },
  {
   "cell_type": "markdown",
   "metadata": {},
   "source": [
    "Clustering coefficient distribution"
   ]
  },
  {
   "cell_type": "code",
   "execution_count": null,
   "metadata": {
    "vscode": {
     "languageId": "plaintext"
    }
   },
   "outputs": [],
   "source": [
    "# http://mlg.eng.cam.ac.uk/pub/pdf/HueBorKriGha08.pdf\n",
    "\"\"\"\n",
    "Graph mining for finding representative subgraphs\n",
    "Interesting metrics for Metropolis algorithm for sampling and evaluating:\n",
    "    x graph degree distribution d_avg, d(v)\n",
    "    x clustering coefficient Cv of node v with degree d(v): number of edges actually existing between neighbors of v\n",
    "      divided by the maximum possible number of such edges between its neighbors d(v)*(d(v)-1)/2\n",
    "    x clustering coefficient distribution Cd = avg(Cv)\n",
    "    - graphlet distribution: given a graph G, a k-graphlet is a connected and induced subgraph of G of size k.\n",
    "      Use the distribution of 3,4 and 5-graphlets in the graph.\n",
    "For evaluation purpose only:\n",
    "    - diameter of the graph: maximum shortest path length between any pair of nodes in the graph\n",
    "\"\"\""
   ]
  },
  {
   "cell_type": "code",
   "execution_count": null,
   "metadata": {
    "vscode": {
     "languageId": "plaintext"
    }
   },
   "outputs": [],
   "source": [
    "t = '0'\n",
    "swarm_20 = Swarm(\n",
    "    connection_range=20000, \n",
    "    nodes=[Node(id, node[t].x, node[t].y, node[t].z) for id,node in satellites.items()]\n",
    "    )\n",
    "print(swarm_20)\n",
    "\n",
    "nm20 = swarm_20.neighbor_matrix()\n",
    "d20 = swarm_20.degree()\n",
    "print('Average node degree:', np.mean(d20))\n",
    "\n",
    "cc20 = swarm_20.cluster_coef()\n",
    "print('Average clustering coefficient:', np.mean(cc20))"
   ]
  },
  {
   "cell_type": "code",
   "execution_count": null,
   "metadata": {
    "vscode": {
     "languageId": "plaintext"
    }
   },
   "outputs": [],
   "source": [
    "t = '0'\n",
    "swarm_30 = Swarm(\n",
    "    connection_range=30000, \n",
    "    nodes=[Node(id, node[t].x, node[t].y, node[t].z) for id,node in satellites.items()]\n",
    "    )\n",
    "print(swarm_30)\n",
    "\n",
    "nm30 = swarm_30.neighbor_matrix()\n",
    "d30 = swarm_30.degree()\n",
    "print('Average node degree:', np.mean(d30))\n",
    "\n",
    "cc30 = swarm_30.cluster_coef()\n",
    "print('Average clustering coefficient:', np.mean(cc30))"
   ]
  },
  {
   "cell_type": "code",
   "execution_count": null,
   "metadata": {
    "vscode": {
     "languageId": "plaintext"
    }
   },
   "outputs": [],
   "source": [
    "t = '0'\n",
    "swarm_40 = Swarm(\n",
    "    connection_range=40000, \n",
    "    nodes=[Node(id, node[t].x, node[t].y, node[t].z) for id,node in satellites.items()]\n",
    "    )\n",
    "print(swarm_40)\n",
    "\n",
    "nm40 = swarm_40.neighbor_matrix()\n",
    "d40 = swarm_40.degree()\n",
    "print('Average node degree:', np.mean(d40))\n",
    "\n",
    "cc40 = swarm_40.cluster_coef()\n",
    "print('Average clustering coefficient:', np.mean(cc40))"
   ]
  },
  {
   "cell_type": "code",
   "execution_count": null,
   "metadata": {
    "vscode": {
     "languageId": "plaintext"
    }
   },
   "outputs": [],
   "source": [
    "t = '0'\n",
    "swarm_50 = Swarm(\n",
    "    connection_range=50000, \n",
    "    nodes=[Node(id, node[t].x, node[t].y, node[t].z) for id,node in satellites.items()]\n",
    "    )\n",
    "print(swarm_50)\n",
    "\n",
    "nm50 = swarm_50.neighbor_matrix()\n",
    "d50 = swarm_50.degree()\n",
    "print('Average node degree:', np.mean(d50))\n",
    "\n",
    "cc50 = swarm_50.cluster_coef()\n",
    "print('Average clustering coefficient:', np.mean(cc50))"
   ]
  },
  {
   "cell_type": "code",
   "execution_count": null,
   "metadata": {
    "vscode": {
     "languageId": "plaintext"
    }
   },
   "outputs": [],
   "source": [
    "t = '0'\n",
    "swarm_60 = Swarm(\n",
    "    connection_range=60000, \n",
    "    nodes=[Node(id, node[t].x, node[t].y, node[t].z) for id,node in satellites.items()]\n",
    "    )\n",
    "print(swarm_60)\n",
    "\n",
    "nm60 = swarm_60.neighbor_matrix()\n",
    "d60 = swarm_60.degree()\n",
    "print('Average node degree:', np.mean(d60))\n",
    "\n",
    "cc60 = swarm_60.cluster_coef()\n",
    "print('Average clustering coefficient:', np.mean(cc60))"
   ]
  },
  {
   "cell_type": "code",
   "execution_count": null,
   "metadata": {
    "vscode": {
     "languageId": "plaintext"
    }
   },
   "outputs": [],
   "source": [
    "fig,ax = plt.subplots(nrows=2, ncols=5, figsize=(17,7))\n",
    "fig.suptitle('Clustering coefficient distribution for various connection ranges')\n",
    "\n",
    "ax[0][0].set_title('20 km')\n",
    "ax[0][0].hist(cc20, bins=30, density=False)\n",
    "bp = ax[1][0].boxplot(cc20, \n",
    "            vert=False, \n",
    "            meanline=True, \n",
    "            showmeans=True, \n",
    "            meanprops={'color':'red','ls':'--'}\n",
    "            )\n",
    "ax[1][0].legend([bp['medians'][0], bp['means'][0]], ['Median', 'Average'])\n",
    "\n",
    "ax[0][1].set_title('30 km')\n",
    "ax[0][1].hist(cc30, bins=30, density=False)\n",
    "bp = ax[1][1].boxplot(cc30, \n",
    "            vert=False, \n",
    "            meanline=True, \n",
    "            showmeans=True, \n",
    "            meanprops={'color':'red','ls':'--'}\n",
    "            )\n",
    "ax[1][1].legend([bp['medians'][0], bp['means'][0]], ['Median', 'Average'])\n",
    "\n",
    "ax[0][2].set_title('40 km')\n",
    "ax[0][2].hist(cc40, bins=30, density=False)\n",
    "bp = ax[1][2].boxplot(cc40, \n",
    "            vert=False, \n",
    "            meanline=True, \n",
    "            showmeans=True, \n",
    "            meanprops={'color':'red','ls':'--'}\n",
    "            )\n",
    "ax[1][2].legend([bp['medians'][0], bp['means'][0]], ['Median', 'Average'])\n",
    "\n",
    "ax[0][3].set_title('50 km')\n",
    "ax[0][3].hist(cc50, bins=30, density=False)\n",
    "bp = ax[1][3].boxplot(cc50, \n",
    "            vert=False, \n",
    "            meanline=True, \n",
    "            showmeans=True, \n",
    "            meanprops={'color':'red','ls':'--'}\n",
    "            )\n",
    "ax[1][3].legend([bp['medians'][0], bp['means'][0]], ['Median', 'Average'])\n",
    "\n",
    "ax[0][4].set_title('60 km')\n",
    "ax[0][4].hist(cc60, bins=30, density=False)\n",
    "bp = ax[1][4].boxplot(cc60, \n",
    "            vert=False, \n",
    "            meanline=True, \n",
    "            showmeans=True, \n",
    "            meanprops={'color':'red','ls':'--'}\n",
    "            )\n",
    "ax[1][4].legend([bp['medians'][0], bp['means'][0]], ['Median', 'Average'])"
   ]
  },
  {
   "cell_type": "code",
   "execution_count": null,
   "metadata": {
    "vscode": {
     "languageId": "plaintext"
    }
   },
   "outputs": [],
   "source": [
    "cc = swarm_20.connected_components()\n",
    "print(cc)"
   ]
  },
  {
   "cell_type": "code",
   "execution_count": null,
   "metadata": {
    "vscode": {
     "languageId": "plaintext"
    }
   },
   "outputs": [],
   "source": [
    "swarm_20.plot_edges()\n"
   ]
  },
  {
   "cell_type": "code",
   "execution_count": null,
   "metadata": {
    "vscode": {
     "languageId": "plaintext"
    }
   },
   "outputs": [],
   "source": [
    "cc = swarm_30.connected_components()\n",
    "print(cc)"
   ]
  },
  {
   "cell_type": "code",
   "execution_count": null,
   "metadata": {
    "vscode": {
     "languageId": "plaintext"
    }
   },
   "outputs": [],
   "source": [
    "swarm_30.plot_edges()\n"
   ]
  },
  {
   "cell_type": "code",
   "execution_count": null,
   "metadata": {
    "vscode": {
     "languageId": "plaintext"
    }
   },
   "outputs": [],
   "source": [
    "cc = swarm_40.connected_components()\n",
    "print(cc)"
   ]
  },
  {
   "cell_type": "code",
   "execution_count": null,
   "metadata": {
    "vscode": {
     "languageId": "plaintext"
    }
   },
   "outputs": [],
   "source": [
    "swarm_40.plot_edges()"
   ]
  }
 ],
 "metadata": {
  "language_info": {
   "name": "python"
  },
  "orig_nbformat": 4
 },
 "nbformat": 4,
 "nbformat_minor": 2
}
